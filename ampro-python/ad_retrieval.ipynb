{
 "cells": [
  {
   "cell_type": "code",
   "execution_count": null,
   "metadata": {},
   "outputs": [],
   "source": [
    "# Import the required libraries\n",
    "import polars as pl"
   ]
  },
  {
   "cell_type": "code",
   "execution_count": null,
   "metadata": {},
   "outputs": [],
   "source": [
    "# Import drs_utils\n",
    "from _utils import drs_utils\n",
    "\n",
    "drs = drs_utils.DRSUtils()\n",
    "\n",
    "docs = drs.get_docs(\"AD\", offset=2000, paginate=False)\n",
    "\n",
    "# print(docs)"
   ]
  },
  {
   "cell_type": "code",
   "execution_count": null,
   "metadata": {},
   "outputs": [],
   "source": [
    "docs[0]"
   ]
  },
  {
   "cell_type": "code",
   "execution_count": null,
   "metadata": {},
   "outputs": [],
   "source": [
    "keysdocs[0].keys()"
   ]
  },
  {
   "cell_type": "code",
   "execution_count": null,
   "metadata": {},
   "outputs": [],
   "source": [
    "docs[0]['drs:adfrawdRegulatoryText']"
   ]
  },
  {
   "cell_type": "code",
   "execution_count": null,
   "metadata": {},
   "outputs": [],
   "source": [
    "schema = {\n",
    "    'drs:documentNumber',\n",
    "    'drs:status',\n",
    "    'drs:adnprmMake',\n",
    "    'drs:adnprmProductType',\n",
    "    'drs:adnprmProductSubtype',\n",
    "    'drs:title',\n",
    "    'drs:adnprmAction',\n",
    "    'drs:drs:adnprmCitation',\n",
    "    'drs:adnprmPageNumber',\n",
    "    'drs:adnprmSummary',\n",
    "    'drs:adnprmRegulatoryText',\n",
    "    'drs:adnprmFurtherInfoContact',\n",
    "    'drs:adnprmSupplementaryInfo',\n",
    "    'drs:adnprmFooter',\n",
    "    'drs:adnprmProductIdentifier',\n",
    "    'drs:partNumber',\n",
    "    'drs:subPart',\n",
    "    'drs:sectionNumber',\n",
    "    'docLastModifiedDate',\n",
    "    'documentGuid',\n",
    "    'documentURL'\n",
    "}\n",
    "df = pl.DataFrame(\n",
    "    docs,\n",
    "    schema=schema\n",
    ")"
   ]
  },
  {
   "cell_type": "code",
   "execution_count": null,
   "metadata": {},
   "outputs": [],
   "source": [
    "df.head()"
   ]
  },
  {
   "cell_type": "code",
   "execution_count": null,
   "metadata": {},
   "outputs": [],
   "source": [
    "for doc in docs:\n",
    "    print(doc)"
   ]
  },
  {
   "cell_type": "code",
   "execution_count": null,
   "metadata": {},
   "outputs": [],
   "source": [
    "print(docs['summary'])"
   ]
  },
  {
   "cell_type": "code",
   "execution_count": null,
   "metadata": {},
   "outputs": [],
   "source": [
    "type(docs['summary']['hasMoreItems'])"
   ]
  },
  {
   "cell_type": "code",
   "execution_count": null,
   "metadata": {},
   "outputs": [],
   "source": [
    "#print(docs['documents'][0])"
   ]
  },
  {
   "cell_type": "code",
   "execution_count": null,
   "metadata": {},
   "outputs": [],
   "source": [
    "print(docs['documents'][0].keys())"
   ]
  },
  {
   "cell_type": "markdown",
   "metadata": {},
   "source": [
    "# Pre-process the Data\n",
    "It appears that the dictionaries are not consistent and it is preventing polars from making a dataframe"
   ]
  },
  {
   "cell_type": "code",
   "execution_count": null,
   "metadata": {},
   "outputs": [],
   "source": [
    "len_list=[]\n",
    "keys_list=[]\n",
    "for doc in docs['documents']:\n",
    "    keys=list(doc.keys())\n",
    "    len_list.append(len(keys))\n",
    "    keys_list.append(keys)\n",
    "\n",
    "print(len_list, '\\n\\n*************\\n',keys_list,'\\n\\n***********')"
   ]
  },
  {
   "cell_type": "code",
   "execution_count": null,
   "metadata": {},
   "outputs": [],
   "source": [
    "keys_list = list(docs['documents'][0].keys())\n",
    "for key in keys_list:\n",
    "    print(key)"
   ]
  },
  {
   "cell_type": "code",
   "execution_count": null,
   "metadata": {},
   "outputs": [],
   "source": [
    "schema = [\n",
    "    'drs:documentNumber',\n",
    "    'drs:status',\n",
    "    'drs:adnprmMake',\n",
    "    'drs:adnprmProductType',\n",
    "    'drs:adnprmProductSubtype',\n",
    "    'drs:title',\n",
    "    'drs:adnprmAction',\n",
    "    'drs:drs:adnprmCitation',\n",
    "    'drs:adnprmPageNumber',\n",
    "    'drs:adnprmSummary',\n",
    "    'drs:adnprmRegulatoryText',\n",
    "    'drs:adnprmFurtherInfoContact',\n",
    "    'drs:adnprmSupplementaryInfo',\n",
    "    'drs:adnprmFooter',\n",
    "    'drs:adnprmProductIdentifier',\n",
    "    'drs:partNumber',\n",
    "    'drs:subPart',\n",
    "    'drs:sectionNumber',\n",
    "    'docLastModifiedDate',\n",
    "    'documentGuid',\n",
    "    'documentURL'\n",
    "]"
   ]
  },
  {
   "cell_type": "code",
   "execution_count": null,
   "metadata": {},
   "outputs": [],
   "source": [
    "df = pl.DataFrame(\n",
    "    docs,\n",
    "    schema=schema,\n",
    ")"
   ]
  },
  {
   "cell_type": "code",
   "execution_count": null,
   "metadata": {},
   "outputs": [],
   "source": [
    "df.shape"
   ]
  },
  {
   "cell_type": "code",
   "execution_count": null,
   "metadata": {},
   "outputs": [],
   "source": [
    "df.head(50)"
   ]
  },
  {
   "cell_type": "code",
   "execution_count": null,
   "metadata": {},
   "outputs": [],
   "source": [
    "schema = {\n",
    "    'drs:documentNumber': pl.str,\n",
    "    'drs:status': pl.str,\n",
    "    'drs:adnprmMake': pl.\n",
    "    \n",
    "}"
   ]
  },
  {
   "cell_type": "code",
   "execution_count": null,
   "metadata": {},
   "outputs": [],
   "source": [
    "df = pl.read_json(docs['documents'])\n",
    "df.head()"
   ]
  },
  {
   "cell_type": "code",
   "execution_count": null,
   "metadata": {},
   "outputs": [],
   "source": [
    "type(docs['documents'][0])"
   ]
  },
  {
   "cell_type": "code",
   "execution_count": null,
   "metadata": {},
   "outputs": [],
   "source": [
    "schema = docs['documents'][0].keys()\n",
    "print(schema)"
   ]
  },
  {
   "cell_type": "code",
   "execution_count": null,
   "metadata": {},
   "outputs": [],
   "source": [
    "type(schema)"
   ]
  },
  {
   "cell_type": "code",
   "execution_count": null,
   "metadata": {},
   "outputs": [],
   "source": [
    "pl.from_dicts(docs['documents'])"
   ]
  },
  {
   "cell_type": "code",
   "execution_count": null,
   "metadata": {},
   "outputs": [],
   "source": [
    "import polars as pl"
   ]
  },
  {
   "cell_type": "code",
   "execution_count": null,
   "metadata": {},
   "outputs": [],
   "source": [
    "# Import drs_utils\n",
    "from _utils import drs_utils\n",
    "\n",
    "drs = drs_utils.DRSUtils()\n",
    "\n",
    "docs = drs.get_docs(\"AD\")"
   ]
  },
  {
   "cell_type": "code",
   "execution_count": null,
   "metadata": {
    "scrolled": true
   },
   "outputs": [],
   "source": [
    "print(len(docs))"
   ]
  },
  {
   "cell_type": "code",
   "execution_count": null,
   "metadata": {},
   "outputs": [],
   "source": [
    "print(docs[0])"
   ]
  },
  {
   "cell_type": "code",
   "execution_count": null,
   "metadata": {},
   "outputs": [],
   "source": [
    "schema = [\n",
    "    'drs:documentNumber',\n",
    "    'drs:status',\n",
    "    'drs:adnprmMake',\n",
    "    'drs:adnprmProductType',\n",
    "    'drs:adnprmProductSubtype',\n",
    "    'drs:title',\n",
    "    'drs:adnprmAction',\n",
    "    'drs:drs:adnprmCitation',\n",
    "    'drs:adnprmPageNumber',\n",
    "    'drs:adnprmSummary',\n",
    "    'drs:adnprmRegulatoryText',\n",
    "    'drs:adnprmFurtherInfoContact',\n",
    "    'drs:adnprmSupplementaryInfo',\n",
    "    'drs:adnprmFooter',\n",
    "    'drs:adnprmProductIdentifier',\n",
    "    'drs:partNumber',\n",
    "    'drs:subPart',\n",
    "    'drs:sectionNumber',\n",
    "    'docLastModifiedDate',\n",
    "    'documentGuid',\n",
    "    'documentURL'\n",
    "]"
   ]
  },
  {
   "cell_type": "code",
   "execution_count": null,
   "metadata": {},
   "outputs": [],
   "source": [
    "schema = [\n",
    "    'drs:documentNumber',\n",
    "    'drs:status',\n",
    "    'drs:adnprmMake',\n",
    "    'drs:adnprmProductType',\n",
    "    'drs:adnprmProductSubtype',\n",
    "    'drs:title',\n",
    "    'drs:adnprmAction',\n",
    "    'drs:adnprmSummary',\n",
    "    'drs:adnprmRegulatoryText',\n",
    "    'drs:adnprmProductIdentifier',\n",
    "    'docLastModifiedDate',\n",
    "    'documentGuid',\n",
    "    'documentURL'\n",
    "]"
   ]
  },
  {
   "cell_type": "code",
   "execution_count": null,
   "metadata": {},
   "outputs": [],
   "source": [
    "print(len(docs), '\\n', list(docs[0].keys()))"
   ]
  },
  {
   "cell_type": "code",
   "execution_count": null,
   "metadata": {},
   "outputs": [],
   "source": [
    "for range(0,10):\n"
   ]
  },
  {
   "cell_type": "code",
   "execution_count": null,
   "metadata": {},
   "outputs": [],
   "source": [
    "\n",
    "df = pl.from_dicts(\n",
    "    docs,\n",
    "    schema=schema,\n",
    ")\n",
    "df.head(50)"
   ]
  },
  {
   "cell_type": "code",
   "execution_count": null,
   "metadata": {},
   "outputs": [],
   "source": [
    "manufacturers = df['drs:adnprmMake'].explode().unique()\n",
    "product_types = df['drs:adnprmProductType'].unique()\n",
    "product_sub_types=df['drs:adnprmProductSubtype'].unique()"
   ]
  },
  {
   "cell_type": "code",
   "execution_count": null,
   "metadata": {},
   "outputs": [],
   "source": [
    "for prod in product_sub_types:\n",
    "    print(prod)"
   ]
  },
  {
   "cell_type": "code",
   "execution_count": null,
   "metadata": {},
   "outputs": [],
   "source": [
    "x = df['drs:adnprmAction'].head(25)\n",
    "\n",
    "for y in x:\n",
    "    print(y)"
   ]
  },
  {
   "cell_type": "code",
   "execution_count": null,
   "metadata": {},
   "outputs": [],
   "source": [
    "import polars as pl"
   ]
  },
  {
   "cell_type": "code",
   "execution_count": null,
   "metadata": {},
   "outputs": [],
   "source": [
    "# Import drs_utils\n",
    "from _utils import drs_utils\n",
    "\n",
    "drs = drs_utils.DRSUtils()\n",
    "\n",
    "ad_docs = drs.get_docs(\"AD\")"
   ]
  },
  {
   "cell_type": "code",
   "execution_count": null,
   "metadata": {},
   "outputs": [],
   "source": [
    "schema = [\n",
    "    'drs:documentNumber',\n",
    "    'drs:status',\n",
    "    'drs:adfrawdAmendment',\n",
    "    'drs:adfrawdMake',\n",
    "    'drs:adfrawdModel',\n",
    "    'drs:adfrawdProductType',\n",
    "    'drs:adfrawdProductSubType',\n",
    "    'drs:adfrawdSubject',\n",
    "    'drs:adfrawdAffectedAD',\n",
    "    'drs:adfrawdAction',\n",
    "    'drs:adfrawdSummary',\n",
    "    'drs:adfrawdSupplementaryInfo',\n",
    "    'drs:adfrawdRegulatoryText',\n",
    "    'drs:partNumber',\n",
    "    'drs:subPart',\n",
    "    'drs:adfrawdIssueDate',\n",
    "    'drs:effectiveDate'\n",
    "]"
   ]
  },
  {
   "cell_type": "code",
   "execution_count": null,
   "metadata": {},
   "outputs": [],
   "source": [
    "df=pl.DataFrame(\n",
    "    ad_docs,\n",
    "    schema=schema\n",
    ")"
   ]
  },
  {
   "cell_type": "code",
   "execution_count": null,
   "metadata": {},
   "outputs": [],
   "source": [
    "df.head(30)"
   ]
  },
  {
   "cell_type": "code",
   "execution_count": null,
   "metadata": {},
   "outputs": [],
   "source": [
    "unique_make = df['drs:adfrawdMake'].explode().unique()\n",
    "unique_model = df['drs:adfrawdModel'].explode().unique()\n",
    "unique_type = df['drs:adfrawdProductType'].explode().unique()\n",
    "unique_sub_type = df['drs:adfrawdProductSubType'].explode().unique()\n",
    "unique_subject = df['drs:adfrawdSubject'].unique()\n",
    "unique_affected_ad = df['drs:adfrawdAffectedAD'].explode().unique()"
   ]
  },
  {
   "cell_type": "code",
   "execution_count": null,
   "metadata": {},
   "outputs": [],
   "source": [
    "unique_list = [unique_make, unique_model, unique_type, unique_sub_type, unique_subject, unique_affected_ad]\n",
    "print(unique_list[0])"
   ]
  },
  {
   "cell_type": "code",
   "execution_count": null,
   "metadata": {},
   "outputs": [],
   "source": [
    "unique_list = [unique_make.sort(), unique_model.sort(), unique_type.sort(), unique_sub_type.sort(), unique_subject.sort(), unique_affected_ad.sort()]\n",
    "\n",
    "for list in unique_list:\n",
    "    print(\"\\n\\n\", list.name)\n",
    "    print(f\"There are {len(list)} unique entries\")\n",
    "    print(\"*\"*50)\n",
    "    for unique in list:\n",
    "        print('\\t\\t', unique)"
   ]
  },
  {
   "cell_type": "code",
   "execution_count": null,
   "metadata": {},
   "outputs": [],
   "source": [
    "unique_model.sort()"
   ]
  },
  {
   "cell_type": "code",
   "execution_count": null,
   "metadata": {},
   "outputs": [],
   "source": [
    "filtered_df = df.filter(df['drs:adfrawdModel'].arr.contains(\"pa-22\"))\n",
    "print(filtered_df)"
   ]
  },
  {
   "cell_type": "code",
   "execution_count": null,
   "metadata": {},
   "outputs": [],
   "source": []
  }
 ],
 "metadata": {
  "kernelspec": {
   "display_name": "Python 3 (ipykernel)",
   "language": "python",
   "name": "python3"
  },
  "language_info": {
   "codemirror_mode": {
    "name": "ipython",
    "version": 3
   },
   "file_extension": ".py",
   "mimetype": "text/x-python",
   "name": "python",
   "nbconvert_exporter": "python",
   "pygments_lexer": "ipython3",
   "version": "3.9.18"
  }
 },
 "nbformat": 4,
 "nbformat_minor": 4
}
