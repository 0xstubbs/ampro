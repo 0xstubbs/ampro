{
 "cells": [
  {
   "cell_type": "markdown",
   "id": "8f559395",
   "metadata": {},
   "source": [
    "# Calling the DRS API using Curl"
   ]
  },
  {
   "cell_type": "markdown",
   "id": "e87637c4",
   "metadata": {},
   "source": [
    "## Set Up Environment\n",
    "This will be a simple script that uses `curl` to do a `GET` request to the DRS API"
   ]
  },
  {
   "cell_type": "markdown",
   "id": "3f967537",
   "metadata": {},
   "source": [
    "You will need to set a few variables:\n",
    "- DRS_API_KEY\n",
    "- doc_type\n",
    "- USER_AGENT"
   ]
  },
  {
   "cell_type": "code",
   "execution_count": 25,
   "id": "d6cf381b",
   "metadata": {},
   "outputs": [
    {
     "name": "stdout",
     "output_type": "stream",
     "text": [
      "URL: https://drs.faa.gov/api/drs/data-pull/ADFRAWD\n",
      "API Key: 3cc99314a05bcef0a82a3aeb7b95d031\n",
      "User-Agent: Mozilla/5.0 (X11; Linux x86_64) AppleWebKit/537.36 (KHTML, like Gecko) Chrome/120.0.0.0 Safari/537.36\n",
      "Doc Type: ADFRAWD\n"
     ]
    }
   ],
   "source": [
    "from dotenv import load_dotenv\n",
    "import os\n",
    "import curl\n",
    "\n",
    "load_dotenv()\n",
    "\n",
    "#Specified in .env file\n",
    "DRS_API_KEY = os.getenv(\"DRS_API_KEY\")\n",
    "BASE_DRS_URL = os.getenv(\"DRS_BASE_URL\")\n",
    "GENERIC_USER_AGENT = os.getenv(\"GENERIC_USER_AGENT\")\n",
    "MAX_TIME = os.getenv(MAX_REQUEST_TIME) #fractional seconds\n",
    "\n",
    "# \"Mozilla/5.0 (X11; Linux x86_64) \\\n",
    "# AppleWebKit/537.36 (KHTML, like Gecko) \\\n",
    "# Chrome/120.0.0.0 Safari/537.36\"\n",
    "\n",
    "\"\"\"\n",
    "Possible doc_type values (k,v):\n",
    "    ADFRAWD: ADs (Airworthiness Directives)\n",
    "    AC: ACs (Advisory Circulars)\n",
    "    .\n",
    "    .\n",
    "    .\n",
    "    For more see the FAA Master Output\n",
    "\"\"\"\n",
    "doc_type = \"ADFRAWD\"\n",
    "\n",
    "url = f\"{BASE_URL}{doc_type}\"\n",
    "\n",
    "print(f\"URL: {url}\\nAPI Key: {DRS_API_KEY}\\nUser-Agent: {USER_AGENT}\\nDoc Type: {doc_type}\")"
   ]
  },
  {
   "cell_type": "markdown",
   "id": "b993815a",
   "metadata": {},
   "source": [
    "For this curl command we have set a number of flags:\n",
    " - -v enables \"verbosity\" to get more information during the curl request to help debugging\n",
    " - -H (or --header) to send custom headers\n",
    "   - Notes: \n",
    "        - Use `--header \"x-api-key: xxx\"` as shown in the documentation\n",
    "        - Use `-H \"USER_AGENT: {user_agent}\"` This **is not** in the documentation\n",
    "            - **Does not work:**`--user-agent {user_agent}`\n",
    "            - **Does not work:**`-H User-Agent: {user_agent}`"
   ]
  },
  {
   "cell_type": "markdown",
   "id": "a12b6224",
   "metadata": {},
   "source": [
    "## Using Curl (why??)\n",
    "<!-- !curl -v \\ #verbose\n",
    "    --location \\ #Follows any redirects\n",
    "    -H f\"x-api-key: {DRS_API_KEY}\" \\ # Sets custom x-api-header\n",
    "    -H f\"USER_AGENT: {GENERIC_USER_AGENT}\" \\ # Sets custom USER_AGENT header\n",
    "    --max-time 30 \\ # Exits if there is no response after 30 seconds\n",
    "    --url f\"{url}\" -->"
   ]
  },
  {
   "cell_type": "code",
   "execution_count": 40,
   "id": "7aabcd36",
   "metadata": {},
   "outputs": [
    {
     "name": "stdout",
     "output_type": "stream",
     "text": [
      "curl -v --location -H \"x-api-key: 3cc99314a05bcef0a82a3aeb7b95d031\" -H \"USER_AGENT: Mozilla/5.0 (X11; Linux x86_64) AppleWebKit/537.36 (KHTML, like Gecko) Chrome/120.0.0.0 Safari/537.36\" --max-time 30 --url https://drs.faa.gov/api/drs/data-pull/ADFRAWD\n",
      "\n"
     ]
    }
   ],
   "source": [
    "import subprocess\n",
    "\n",
    "command=f\"\"\"curl \\\n",
    "-v \\\n",
    "--location \\\n",
    "-H \\\"x-api-key: {DRS_API_KEY}\\\" \\\n",
    "-H \\\"USER_AGENT: {GENERIC_USER_AGENT}\\\" \\\n",
    "--max-time {max_time} \\\n",
    "--url {url}\n",
    "\"\"\"\n",
    "print(command)\n",
    "# response = subprocess.check_output(command, shell=True, text=True)\n"
   ]
  },
  {
   "cell_type": "code",
   "execution_count": 44,
   "id": "d3d53593",
   "metadata": {},
   "outputs": [
    {
     "data": {
      "text/plain": [
       "(str, 19523923)"
      ]
     },
     "execution_count": 44,
     "metadata": {},
     "output_type": "execute_result"
    }
   ],
   "source": [
    "type(response), len(response)"
   ]
  },
  {
   "cell_type": "code",
   "execution_count": 48,
   "id": "ee6f7317",
   "metadata": {},
   "outputs": [
    {
     "data": {
      "text/plain": [
       "'{\"summary\":{\"doctypeName\":\"ADFRAWD\",\"drsDoctypeName\":\"AD Final Rules\",\"count\":750,\"hasMoreItems\":tru'"
      ]
     },
     "execution_count": 48,
     "metadata": {},
     "output_type": "execute_result"
    }
   ],
   "source": [
    "response[0:100]"
   ]
  },
  {
   "cell_type": "code",
   "execution_count": null,
   "id": "d5168a6a",
   "metadata": {},
   "outputs": [],
   "source": [
    "print(response.json())"
   ]
  }
 ],
 "metadata": {
  "kernelspec": {
   "display_name": "Python 3 (ipykernel)",
   "language": "python",
   "name": "python3"
  },
  "language_info": {
   "codemirror_mode": {
    "name": "ipython",
    "version": 3
   },
   "file_extension": ".py",
   "mimetype": "text/x-python",
   "name": "python",
   "nbconvert_exporter": "python",
   "pygments_lexer": "ipython3",
   "version": "3.9.18"
  }
 },
 "nbformat": 4,
 "nbformat_minor": 5
}
