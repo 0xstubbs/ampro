{
 "cells": [
  {
   "cell_type": "markdown",
   "id": "403c611f-8d1e-43e6-8291-9466c40e8a56",
   "metadata": {},
   "source": [
    "# Parse JSON Files with Polars"
   ]
  },
  {
   "cell_type": "code",
   "execution_count": 3,
   "id": "105ca3d8-27ee-4539-b57e-3453142182b1",
   "metadata": {},
   "outputs": [
    {
     "name": "stdout",
     "output_type": "stream",
     "text": [
      "\u001b[2mUsing Python 3.11.11 environment at: /home/stubbs/.venv\u001b[0m\n",
      "\u001b[2K\u001b[2mResolved \u001b[1m1 package\u001b[0m \u001b[2min 99ms\u001b[0m\u001b[0m                                           \u001b[0m\n",
      "\u001b[2K\u001b[2mInstalled \u001b[1m1 package\u001b[0m \u001b[2min 9ms\u001b[0m\u001b[0m                                  \u001b[0m\n",
      " \u001b[32m+\u001b[39m \u001b[1mpolars\u001b[0m\u001b[2m==1.26.0\u001b[0m\n",
      "Using CPython \u001b[36m3.13.2\u001b[39m\n",
      "Creating virtual environment at: \u001b[36msync\u001b[39m\n",
      "Activate with: \u001b[32msource sync/bin/activate\u001b[39m\n"
     ]
    }
   ],
   "source": [
    "!uv pip install polars\n",
    "!uv venv sync"
   ]
  },
  {
   "cell_type": "code",
   "execution_count": 11,
   "id": "77466d5d-192c-4a21-9c18-b232f7be6604",
   "metadata": {},
   "outputs": [],
   "source": [
    "import polars as pl\n",
    "import os\n",
    "import json\n"
   ]
  },
  {
   "cell_type": "code",
   "execution_count": 137,
   "id": "b4546a94-a629-4709-9603-9bd60010ebd8",
   "metadata": {},
   "outputs": [
    {
     "name": "stdout",
     "output_type": "stream",
     "text": [
      "Schema([('doc_number', String), ('status', String), ('docket_no', String), ('make', List(String)), ('model', List(String)), ('product_type', List(String)), ('product_subtype', List(String)), ('subject', String), ('affected_ad', List(String)), ('superseded_ad', List(String)), ('title', String), ('action', String), ('summary', String), ('supplementary_info', String), ('regulatory_text', String), ('part_no', List(String)), ('subpart', List(String)), ('section_no', List(String)), ('publish_date', String), ('issue_date', String), ('effective_date', String), ('ab_ref', Null), ('ad_ref', Null), ('car_ref', Null), ('ex_ref', Null), ('sfar_ref', Null), ('modified_date', String), ('doc_guid', String), ('doc_url', String), ('doc_download_url', String), ('doc_filename', String), ('has_more_attachments', Boolean)])\n"
     ]
    }
   ],
   "source": [
    "import polars as pl\n",
    "\n",
    "# Set the config for displaying more rows in the DataFrame\n",
    "pl.Config.set_tbl_rows(50)\n",
    "\n",
    "parquet_dir = \"../tmp_data/\"\n",
    "\n",
    "# Read the parquet file lazily\n",
    "df_lazy = pl.scan_parquet(parquet_dir).collect_schema()\n",
    "\n",
    "# Print the schema to understand the types and check for any unexpected issues\n",
    "print(df_lazy)\n"
   ]
  },
  {
   "cell_type": "code",
   "execution_count": 139,
   "id": "552522cf-9a6a-4a1d-8160-ffcf17ba5600",
   "metadata": {},
   "outputs": [
    {
     "data": {
      "text/html": [
       "<div><style>\n",
       ".dataframe > thead > tr,\n",
       ".dataframe > tbody > tr {\n",
       "  text-align: right;\n",
       "  white-space: pre-wrap;\n",
       "}\n",
       "</style>\n",
       "<small>shape: (9_000, 32)</small><table border=\"1\" class=\"dataframe\"><thead><tr><th>doc_number</th><th>status</th><th>docket_no</th><th>make</th><th>model</th><th>product_type</th><th>product_subtype</th><th>subject</th><th>affected_ad</th><th>superseded_ad</th><th>title</th><th>action</th><th>summary</th><th>supplementary_info</th><th>regulatory_text</th><th>part_no</th><th>subpart</th><th>section_no</th><th>publish_date</th><th>issue_date</th><th>effective_date</th><th>ab_ref</th><th>ad_ref</th><th>car_ref</th><th>ex_ref</th><th>sfar_ref</th><th>modified_date</th><th>doc_guid</th><th>doc_url</th><th>doc_download_url</th><th>doc_filename</th><th>has_more_attachments</th></tr><tr><td>str</td><td>str</td><td>str</td><td>list[str]</td><td>list[str]</td><td>list[str]</td><td>list[str]</td><td>str</td><td>list[str]</td><td>list[str]</td><td>str</td><td>str</td><td>str</td><td>str</td><td>str</td><td>list[str]</td><td>list[str]</td><td>list[str]</td><td>str</td><td>str</td><td>str</td><td>null</td><td>null</td><td>null</td><td>null</td><td>null</td><td>str</td><td>str</td><td>str</td><td>str</td><td>str</td><td>bool</td></tr></thead><tbody><tr><td>&quot;2025-05-14&quot;</td><td>&quot;Current&quot;</td><td>&quot;FAA-2024-1701&quot;</td><td>[&quot;Airbus SAS&quot;]</td><td>[&quot;A350-941&quot;, &quot;A350-1041&quot;]</td><td>[&quot;Aircraft&quot;]</td><td>[&quot;Large Airplane&quot;]</td><td>&quot;Pneumatic&quot;</td><td>null</td><td>null</td><td>&quot;Airworthiness Directives; Airb…</td><td>&quot;Final rule.&quot;</td><td>&quot;The FAA is adopting a new airw…</td><td>&quot;Background The FAA issued a no…</td><td>&quot;1. The authority citation for …</td><td>[&quot;Part 39&quot;]</td><td>[&quot;_EMPTY_&quot;]</td><td>[&quot;_EMPTY_&quot;]</td><td>&quot;2025-04-01T00:00:00.000Z&quot;</td><td>&quot;2025-03-06T00:00:00.000Z&quot;</td><td>&quot;2025-04-22T00:00:00.000Z&quot;</td><td>null</td><td>null</td><td>null</td><td>null</td><td>null</td><td>&quot;2025-04-01T14:00:33.473Z&quot;</td><td>&quot;FR-ADFRAWD-R1-2025-04334-00000…</td><td>&quot;https://drs.faa.gov/browse/exc…</td><td>&quot;https://drs.faa.gov/api/drs/da…</td><td>&quot;2025-05-14.html&quot;</td><td>false</td></tr><tr><td>&quot;2025-06-09&quot;</td><td>&quot;Current&quot;</td><td>&quot;FAA-2025-0471&quot;</td><td>[&quot;Embraer S.A.&quot;]</td><td>[&quot;ERJ 190-300&quot;, &quot;ERJ 190-400&quot;]</td><td>[&quot;Aircraft&quot;]</td><td>[&quot;Large Airplane&quot;]</td><td>&quot;Landing gear&quot;</td><td>null</td><td>null</td><td>&quot;Airworthiness Directives; Embr…</td><td>&quot;Final rule; request for commen…</td><td>&quot;The FAA is adopting a new airw…</td><td>&quot;Comments Invited The FAA invit…</td><td>&quot;1. The authority citation for …</td><td>[&quot;Part 39&quot;]</td><td>[&quot;_EMPTY_&quot;]</td><td>[&quot;_EMPTY_&quot;]</td><td>&quot;2025-03-28T00:00:00.000Z&quot;</td><td>&quot;2025-03-17T00:00:00.000Z&quot;</td><td>&quot;2025-04-14T00:00:00.000Z&quot;</td><td>null</td><td>null</td><td>null</td><td>null</td><td>null</td><td>&quot;2025-03-28T14:34:04.817Z&quot;</td><td>&quot;FR-ADFRAWD-2025-05331-00000000…</td><td>&quot;https://drs.faa.gov/browse/exc…</td><td>&quot;https://drs.faa.gov/api/drs/da…</td><td>&quot;2025-06-09.html&quot;</td><td>false</td></tr><tr><td>&quot;2025-06-12&quot;</td><td>&quot;Current&quot;</td><td>&quot;FAA-2024-2713&quot;</td><td>[&quot;The Boeing Company&quot;]</td><td>[&quot;777-200 Series&quot;, &quot;777-200LR Series&quot;, … &quot;777F Series&quot;]</td><td>[&quot;Aircraft&quot;]</td><td>[&quot;Large Airplane&quot;]</td><td>&quot;Auto flight&quot;</td><td>null</td><td>null</td><td>&quot;Airworthiness Directives; The …</td><td>&quot;Final rule.&quot;</td><td>&quot;The FAA is adopting a new airw…</td><td>&quot;Background The FAA issued a no…</td><td>&quot;1. The authority citation for …</td><td>[&quot;Part 39&quot;]</td><td>[&quot;_EMPTY_&quot;]</td><td>[&quot;_EMPTY_&quot;]</td><td>&quot;2025-03-28T00:00:00.000Z&quot;</td><td>&quot;2025-03-24T00:00:00.000Z&quot;</td><td>&quot;2025-05-02T00:00:00.000Z&quot;</td><td>null</td><td>null</td><td>null</td><td>null</td><td>null</td><td>&quot;2025-03-28T14:07:13.307Z&quot;</td><td>&quot;FR-ADFRAWD-2025-05296-00000000…</td><td>&quot;https://drs.faa.gov/browse/exc…</td><td>&quot;https://drs.faa.gov/api/drs/da…</td><td>&quot;2025-06-12.html&quot;</td><td>false</td></tr><tr><td>&quot;2025-06-06&quot;</td><td>&quot;Current&quot;</td><td>&quot;FAA-2024-2019&quot;</td><td>[&quot;Airbus Canada Limited Partnership&quot;]</td><td>[&quot;BD-500-1A10&quot;, &quot;BD-500-1A11&quot;]</td><td>[&quot;Aircraft&quot;]</td><td>[&quot;Large Airplane&quot;]</td><td>&quot;Fuselage&quot;</td><td>null</td><td>null</td><td>&quot;Airworthiness Directives; Airb…</td><td>&quot;Final rule.&quot;</td><td>&quot;The FAA is adopting a new airw…</td><td>&quot;Background The FAA issued a no…</td><td>&quot;1. The authority citation for …</td><td>[&quot;Part 39&quot;]</td><td>[&quot;_EMPTY_&quot;]</td><td>[&quot;_EMPTY_&quot;]</td><td>&quot;2025-03-28T00:00:00.000Z&quot;</td><td>&quot;2025-03-13T00:00:00.000Z&quot;</td><td>&quot;2025-05-02T00:00:00.000Z&quot;</td><td>null</td><td>null</td><td>null</td><td>null</td><td>null</td><td>&quot;2025-03-28T14:13:33.884Z&quot;</td><td>&quot;FR-ADFRAWD-2025-05294-00000000…</td><td>&quot;https://drs.faa.gov/browse/exc…</td><td>&quot;https://drs.faa.gov/api/drs/da…</td><td>&quot;2025-06-06.html&quot;</td><td>false</td></tr><tr><td>&quot;2025-06-11&quot;</td><td>&quot;Current&quot;</td><td>&quot;FAA-2024-2416&quot;</td><td>[&quot;ATR – GIE Avions de Transport Régional&quot;]</td><td>[&quot;ATR42-500&quot;, &quot;ATR72-212A&quot;]</td><td>[&quot;Aircraft&quot;]</td><td>[&quot;Large Airplane&quot;]</td><td>&quot;Stabilizers&quot;</td><td>null</td><td>null</td><td>&quot;Airworthiness Directives; ATR-…</td><td>&quot;Final rule.&quot;</td><td>&quot;The FAA is adopting a new airw…</td><td>&quot;Background The FAA issued a no…</td><td>&quot;1. The authority citation for …</td><td>[&quot;Part 39&quot;]</td><td>[&quot;_EMPTY_&quot;]</td><td>[&quot;_EMPTY_&quot;]</td><td>&quot;2025-03-28T00:00:00.000Z&quot;</td><td>&quot;2025-03-21T00:00:00.000Z&quot;</td><td>&quot;2025-05-02T00:00:00.000Z&quot;</td><td>null</td><td>null</td><td>null</td><td>null</td><td>null</td><td>&quot;2025-03-28T14:17:55.805Z&quot;</td><td>&quot;FR-ADFRAWD-2025-05297-00000000…</td><td>&quot;https://drs.faa.gov/browse/exc…</td><td>&quot;https://drs.faa.gov/api/drs/da…</td><td>&quot;2025-06-11.html&quot;</td><td>false</td></tr><tr><td>&hellip;</td><td>&hellip;</td><td>&hellip;</td><td>&hellip;</td><td>&hellip;</td><td>&hellip;</td><td>&hellip;</td><td>&hellip;</td><td>&hellip;</td><td>&hellip;</td><td>&hellip;</td><td>&hellip;</td><td>&hellip;</td><td>&hellip;</td><td>&hellip;</td><td>&hellip;</td><td>&hellip;</td><td>&hellip;</td><td>&hellip;</td><td>&hellip;</td><td>&hellip;</td><td>&hellip;</td><td>&hellip;</td><td>&hellip;</td><td>&hellip;</td><td>&hellip;</td><td>&hellip;</td><td>&hellip;</td><td>&hellip;</td><td>&hellip;</td><td>&hellip;</td><td>&hellip;</td></tr><tr><td>&quot;2005-20-28&quot;</td><td>&quot;Current&quot;</td><td>&quot;FAA-2005-20687&quot;</td><td>[&quot;Airbus&quot;]</td><td>[&quot;A319-111&quot;, &quot;A319-112&quot;, … &quot;A321-231&quot;]</td><td>[&quot;Aircraft&quot;]</td><td>[&quot;Large Airplane&quot;]</td><td>&quot;Floor proximity emergency esca…</td><td>null</td><td>null</td><td>&quot;Airworthiness Directives; Airb…</td><td>&quot;Final rule.&quot;</td><td>&quot;The FAA is adopting a new airw…</td><td>&quot;Examining the Docket \n",
       "\n",
       "\tYou ma…</td><td>&quot;2005-20-28 Airbus: Amendment 3…</td><td>[&quot;Part 39&quot;]</td><td>null</td><td>null</td><td>&quot;2005-10-12T00:00:00.000Z&quot;</td><td>&quot;2005-09-28T00:00:00.000Z&quot;</td><td>&quot;2005-11-16T00:00:00.000Z&quot;</td><td>null</td><td>null</td><td>null</td><td>null</td><td>null</td><td>&quot;2024-05-30T19:48:53.441Z&quot;</td><td>&quot;9F50477C6CAA0851862570980057A9…</td><td>&quot;https://drs.faa.gov/browse/exc…</td><td>&quot;https://drs.faa.gov/api/drs/da…</td><td>&quot;2005-20-28.pdf&quot;</td><td>true</td></tr><tr><td>&quot;2005-20-33&quot;</td><td>&quot;Current&quot;</td><td>&quot;2003-NM-238-AD&quot;</td><td>[&quot;The Boeing Company&quot;]</td><td>[&quot;727-100 Series&quot;, &quot;727-100C Series&quot;, … &quot;727C Series&quot;]</td><td>[&quot;Aircraft&quot;]</td><td>[&quot;Large Airplane&quot;]</td><td>&quot;Frame inner chord, outer chord…</td><td>null</td><td>null</td><td>&quot;Airworthiness Directives; Boei…</td><td>&quot;Final rule.&quot;</td><td>&quot;This amendment adopts a new ai…</td><td>&quot;A proposal to amend part 39 of…</td><td>&quot;2005-20-33 Boeing: Amendment 3…</td><td>[&quot;Part 39&quot;]</td><td>null</td><td>null</td><td>&quot;2005-10-12T00:00:00.000Z&quot;</td><td>&quot;2005-09-29T00:00:00.000Z&quot;</td><td>&quot;2005-11-16T00:00:00.000Z&quot;</td><td>null</td><td>null</td><td>null</td><td>null</td><td>null</td><td>&quot;2024-05-30T19:48:53.441Z&quot;</td><td>&quot;A9BD8CF83760168C862570980057E7…</td><td>&quot;https://drs.faa.gov/browse/exc…</td><td>&quot;https://drs.faa.gov/api/drs/da…</td><td>&quot;2005-20-33.pdf&quot;</td><td>true</td></tr><tr><td>&quot;2005-20-37&quot;</td><td>&quot;Current&quot;</td><td>&quot;FAA-2005-20223&quot;</td><td>[&quot;Embraer S.A.&quot;]</td><td>[&quot;EMB-135BJ (Legacy 600)&quot;, &quot;EMB-135ER&quot;, … &quot;EMB-145XR&quot;]</td><td>[&quot;Aircraft&quot;]</td><td>[&quot;Large Airplane&quot;]</td><td>&quot;Main landing gear (MLG) traili…</td><td>null</td><td>null</td><td>&quot;Airworthiness Directives; Empr…</td><td>&quot;Final rule.&quot;</td><td>&quot;The FAA is adopting a new airw…</td><td>&quot;Examining the Docket \n",
       "\n",
       "\tYou ma…</td><td>&quot;2005-20-37 Empresa Brasileira …</td><td>[&quot;Part 39&quot;]</td><td>null</td><td>null</td><td>&quot;2005-10-12T00:00:00.000Z&quot;</td><td>&quot;2005-09-28T00:00:00.000Z&quot;</td><td>&quot;2005-11-16T00:00:00.000Z&quot;</td><td>null</td><td>null</td><td>null</td><td>null</td><td>null</td><td>&quot;2024-05-30T19:48:53.441Z&quot;</td><td>&quot;0FEE133D21C656BD862570980057E8…</td><td>&quot;https://drs.faa.gov/browse/exc…</td><td>&quot;https://drs.faa.gov/api/drs/da…</td><td>&quot;2005-20-37.pdf&quot;</td><td>true</td></tr><tr><td>&quot;2005-20-36&quot;</td><td>&quot;Current&quot;</td><td>&quot;FAA-2005-21862&quot;</td><td>[&quot;Airbus&quot;]</td><td>[&quot;A320-111&quot;, &quot;A320-211&quot;, … &quot;A321-231&quot;]</td><td>[&quot;Aircraft&quot;]</td><td>[&quot;Large Airplane&quot;]</td><td>&quot;Low pressure valve&quot;</td><td>null</td><td>null</td><td>&quot;Airworthiness Directives; Airb…</td><td>&quot;Final rule.&quot;</td><td>&quot;The FAA is adopting a new airw…</td><td>&quot;Examining the Docket \n",
       "\n",
       "\tYou ma…</td><td>&quot;2005-20-36 Airbus: Amendment 3…</td><td>[&quot;Part 39&quot;]</td><td>null</td><td>null</td><td>&quot;2005-10-12T00:00:00.000Z&quot;</td><td>&quot;2005-09-28T00:00:00.000Z&quot;</td><td>&quot;2005-11-16T00:00:00.000Z&quot;</td><td>null</td><td>null</td><td>null</td><td>null</td><td>null</td><td>&quot;2024-05-30T19:48:53.441Z&quot;</td><td>&quot;B0BE4A94F33C6E68862570980057A9…</td><td>&quot;https://drs.faa.gov/browse/exc…</td><td>&quot;https://drs.faa.gov/api/drs/da…</td><td>&quot;2005-20-36.pdf&quot;</td><td>true</td></tr><tr><td>&quot;2003-19-14 R2&quot;</td><td>&quot;Current&quot;</td><td>&quot;FAA-2005-20441&quot;</td><td>[&quot;Burkhart Grob Luft-Und&quot;]</td><td>[&quot;G103 Twin Astir&quot;, &quot;G103A Twin II Acro&quot;, &quot;G103C Twin III Acro&quot;]</td><td>[&quot;Aircraft&quot;]</td><td>[&quot;Glider&quot;]</td><td>&quot;Airspeed indicators&quot;</td><td>null</td><td>[&quot;2003-19-14 R1&quot;]</td><td>&quot;Airworthiness Directives; BURK…</td><td>&quot;Final rule.&quot;</td><td>&quot;The FAA is revising Airworthin…</td><td>&quot;Discussion \\n\\n\\tHas FAA taken…</td><td>&quot;2003-19-14 R2 BURKHART GROB LU…</td><td>[&quot;Part 39&quot;]</td><td>null</td><td>null</td><td>&quot;2005-10-12T00:00:00.000Z&quot;</td><td>&quot;2005-09-28T00:00:00.000Z&quot;</td><td>&quot;2005-11-30T00:00:00.000Z&quot;</td><td>null</td><td>null</td><td>null</td><td>null</td><td>null</td><td>&quot;2024-05-30T19:48:53.441Z&quot;</td><td>&quot;2BD9D5A871E4247B862570980061C6…</td><td>&quot;https://drs.faa.gov/browse/exc…</td><td>&quot;https://drs.faa.gov/api/drs/da…</td><td>&quot;2003-19-14 R2.pdf&quot;</td><td>true</td></tr></tbody></table></div>"
      ],
      "text/plain": [
       "shape: (9_000, 32)\n",
       "┌────────────┬─────────┬───────────┬───────────┬───┬───────────┬───────────┬───────────┬───────────┐\n",
       "│ doc_number ┆ status  ┆ docket_no ┆ make      ┆ … ┆ doc_url   ┆ doc_downl ┆ doc_filen ┆ has_more_ │\n",
       "│ ---        ┆ ---     ┆ ---       ┆ ---       ┆   ┆ ---       ┆ oad_url   ┆ ame       ┆ attachmen │\n",
       "│ str        ┆ str     ┆ str       ┆ list[str] ┆   ┆ str       ┆ ---       ┆ ---       ┆ ts        │\n",
       "│            ┆         ┆           ┆           ┆   ┆           ┆ str       ┆ str       ┆ ---       │\n",
       "│            ┆         ┆           ┆           ┆   ┆           ┆           ┆           ┆ bool      │\n",
       "╞════════════╪═════════╪═══════════╪═══════════╪═══╪═══════════╪═══════════╪═══════════╪═══════════╡\n",
       "│ 2025-05-14 ┆ Current ┆ FAA-2024- ┆ [\"Airbus  ┆ … ┆ https://d ┆ https://d ┆ 2025-05-1 ┆ false     │\n",
       "│            ┆         ┆ 1701      ┆ SAS\"]     ┆   ┆ rs.faa.go ┆ rs.faa.go ┆ 4.html    ┆           │\n",
       "│            ┆         ┆           ┆           ┆   ┆ v/browse/ ┆ v/api/drs ┆           ┆           │\n",
       "│            ┆         ┆           ┆           ┆   ┆ exc…      ┆ /da…      ┆           ┆           │\n",
       "│ 2025-06-09 ┆ Current ┆ FAA-2025- ┆ [\"Embraer ┆ … ┆ https://d ┆ https://d ┆ 2025-06-0 ┆ false     │\n",
       "│            ┆         ┆ 0471      ┆ S.A.\"]    ┆   ┆ rs.faa.go ┆ rs.faa.go ┆ 9.html    ┆           │\n",
       "│            ┆         ┆           ┆           ┆   ┆ v/browse/ ┆ v/api/drs ┆           ┆           │\n",
       "│            ┆         ┆           ┆           ┆   ┆ exc…      ┆ /da…      ┆           ┆           │\n",
       "│ 2025-06-12 ┆ Current ┆ FAA-2024- ┆ [\"The     ┆ … ┆ https://d ┆ https://d ┆ 2025-06-1 ┆ false     │\n",
       "│            ┆         ┆ 2713      ┆ Boeing    ┆   ┆ rs.faa.go ┆ rs.faa.go ┆ 2.html    ┆           │\n",
       "│            ┆         ┆           ┆ Company\"] ┆   ┆ v/browse/ ┆ v/api/drs ┆           ┆           │\n",
       "│            ┆         ┆           ┆           ┆   ┆ exc…      ┆ /da…      ┆           ┆           │\n",
       "│ 2025-06-06 ┆ Current ┆ FAA-2024- ┆ [\"Airbus  ┆ … ┆ https://d ┆ https://d ┆ 2025-06-0 ┆ false     │\n",
       "│            ┆         ┆ 2019      ┆ Canada    ┆   ┆ rs.faa.go ┆ rs.faa.go ┆ 6.html    ┆           │\n",
       "│            ┆         ┆           ┆ Limited   ┆   ┆ v/browse/ ┆ v/api/drs ┆           ┆           │\n",
       "│            ┆         ┆           ┆ Partne…   ┆   ┆ exc…      ┆ /da…      ┆           ┆           │\n",
       "│ 2025-06-11 ┆ Current ┆ FAA-2024- ┆ [\"ATR –   ┆ … ┆ https://d ┆ https://d ┆ 2025-06-1 ┆ false     │\n",
       "│            ┆         ┆ 2416      ┆ GIE       ┆   ┆ rs.faa.go ┆ rs.faa.go ┆ 1.html    ┆           │\n",
       "│            ┆         ┆           ┆ Avions de ┆   ┆ v/browse/ ┆ v/api/drs ┆           ┆           │\n",
       "│            ┆         ┆           ┆ Transpor… ┆   ┆ exc…      ┆ /da…      ┆           ┆           │\n",
       "│ …          ┆ …       ┆ …         ┆ …         ┆ … ┆ …         ┆ …         ┆ …         ┆ …         │\n",
       "│ 2005-20-28 ┆ Current ┆ FAA-2005- ┆ [\"Airbus\" ┆ … ┆ https://d ┆ https://d ┆ 2005-20-2 ┆ true      │\n",
       "│            ┆         ┆ 20687     ┆ ]         ┆   ┆ rs.faa.go ┆ rs.faa.go ┆ 8.pdf     ┆           │\n",
       "│            ┆         ┆           ┆           ┆   ┆ v/browse/ ┆ v/api/drs ┆           ┆           │\n",
       "│            ┆         ┆           ┆           ┆   ┆ exc…      ┆ /da…      ┆           ┆           │\n",
       "│ 2005-20-33 ┆ Current ┆ 2003-NM-2 ┆ [\"The     ┆ … ┆ https://d ┆ https://d ┆ 2005-20-3 ┆ true      │\n",
       "│            ┆         ┆ 38-AD     ┆ Boeing    ┆   ┆ rs.faa.go ┆ rs.faa.go ┆ 3.pdf     ┆           │\n",
       "│            ┆         ┆           ┆ Company\"] ┆   ┆ v/browse/ ┆ v/api/drs ┆           ┆           │\n",
       "│            ┆         ┆           ┆           ┆   ┆ exc…      ┆ /da…      ┆           ┆           │\n",
       "│ 2005-20-37 ┆ Current ┆ FAA-2005- ┆ [\"Embraer ┆ … ┆ https://d ┆ https://d ┆ 2005-20-3 ┆ true      │\n",
       "│            ┆         ┆ 20223     ┆ S.A.\"]    ┆   ┆ rs.faa.go ┆ rs.faa.go ┆ 7.pdf     ┆           │\n",
       "│            ┆         ┆           ┆           ┆   ┆ v/browse/ ┆ v/api/drs ┆           ┆           │\n",
       "│            ┆         ┆           ┆           ┆   ┆ exc…      ┆ /da…      ┆           ┆           │\n",
       "│ 2005-20-36 ┆ Current ┆ FAA-2005- ┆ [\"Airbus\" ┆ … ┆ https://d ┆ https://d ┆ 2005-20-3 ┆ true      │\n",
       "│            ┆         ┆ 21862     ┆ ]         ┆   ┆ rs.faa.go ┆ rs.faa.go ┆ 6.pdf     ┆           │\n",
       "│            ┆         ┆           ┆           ┆   ┆ v/browse/ ┆ v/api/drs ┆           ┆           │\n",
       "│            ┆         ┆           ┆           ┆   ┆ exc…      ┆ /da…      ┆           ┆           │\n",
       "│ 2003-19-14 ┆ Current ┆ FAA-2005- ┆ [\"Burkhar ┆ … ┆ https://d ┆ https://d ┆ 2003-19-1 ┆ true      │\n",
       "│ R2         ┆         ┆ 20441     ┆ t Grob    ┆   ┆ rs.faa.go ┆ rs.faa.go ┆ 4 R2.pdf  ┆           │\n",
       "│            ┆         ┆           ┆ Luft-Und\" ┆   ┆ v/browse/ ┆ v/api/drs ┆           ┆           │\n",
       "│            ┆         ┆           ┆ ]         ┆   ┆ exc…      ┆ /da…      ┆           ┆           │\n",
       "└────────────┴─────────┴───────────┴───────────┴───┴───────────┴───────────┴───────────┴───────────┘"
      ]
     },
     "execution_count": 139,
     "metadata": {},
     "output_type": "execute_result"
    }
   ],
   "source": [
    "pl.Config.set_tbl_rows(10)\n",
    "parquet_dir = \"../tmp_data/*\"\n",
    "\n",
    "lf = pl.scan_parquet(parquet_dir).collect()\n",
    "\n",
    "lf"
   ]
  }
 ],
 "metadata": {
  "kernelspec": {
   "display_name": "Python 3 (ipykernel)",
   "language": "python",
   "name": "python3"
  },
  "language_info": {
   "codemirror_mode": {
    "name": "ipython",
    "version": 3
   },
   "file_extension": ".py",
   "mimetype": "text/x-python",
   "name": "python",
   "nbconvert_exporter": "python",
   "pygments_lexer": "ipython3",
   "version": "3.11.11"
  }
 },
 "nbformat": 4,
 "nbformat_minor": 5
}
